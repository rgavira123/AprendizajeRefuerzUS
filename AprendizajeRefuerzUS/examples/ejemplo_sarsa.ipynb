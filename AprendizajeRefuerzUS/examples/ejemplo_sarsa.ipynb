{
 "cells": [
  {
   "cell_type": "code",
   "execution_count": 1,
   "metadata": {},
   "outputs": [],
   "source": [
    "import AprendizajeRefuerzUS"
   ]
  },
  {
   "cell_type": "code",
   "execution_count": 2,
   "metadata": {},
   "outputs": [],
   "source": [
    "from AprendizajeRefuerzUS import problem as prob\n",
    "\n",
    "import pkg_resources\n",
    "\n",
    "mapa1 = pkg_resources.resource_filename('AprendizajeRefuerzUS', 'maps/map1.txt')\n",
    "mapa2 = pkg_resources.resource_filename('AprendizajeRefuerzUS', 'maps/map2.txt')\n",
    "mapa3 = pkg_resources.resource_filename('AprendizajeRefuerzUS', 'maps/map3.txt')\n",
    "\n",
    "problem = prob.Problem(mapa1,0.2)"
   ]
  },
  {
   "cell_type": "code",
   "execution_count": 3,
   "metadata": {},
   "outputs": [],
   "source": [
    "transiciones = problem.transiciones\n",
    "recompensas = problem.recompensas"
   ]
  },
  {
   "cell_type": "code",
   "execution_count": 5,
   "metadata": {},
   "outputs": [],
   "source": [
    "from AprendizajeRefuerzUS.algorithms import sarsa as sarsa\n",
    "\n",
    "modelo_sarsa = sarsa.SARSA(transiciones,\n",
    "                           recompensas, factor_descuento=0.9, \n",
    "                           factor_aprendizaje=0.5, \n",
    "                           max_iteraciones=2000, \n",
    "                           epsilon=0.1)\n",
    "\n",
    "modelo_sarsa.entrenar()"
   ]
  },
  {
   "cell_type": "code",
   "execution_count": null,
   "metadata": {},
   "outputs": [],
   "source": [
    "politica_sarsa = modelo_sarsa.obtener_politica()\n",
    "\n",
    "problem.actualiza_politica(politica_sarsa)\n",
    "problem.visualiza_politica()"
   ]
  }
 ],
 "metadata": {
  "kernelspec": {
   "display_name": ".venv",
   "language": "python",
   "name": "python3"
  },
  "language_info": {
   "codemirror_mode": {
    "name": "ipython",
    "version": 3
   },
   "file_extension": ".py",
   "mimetype": "text/x-python",
   "name": "python",
   "nbconvert_exporter": "python",
   "pygments_lexer": "ipython3",
   "version": "3.10.11"
  }
 },
 "nbformat": 4,
 "nbformat_minor": 2
}
